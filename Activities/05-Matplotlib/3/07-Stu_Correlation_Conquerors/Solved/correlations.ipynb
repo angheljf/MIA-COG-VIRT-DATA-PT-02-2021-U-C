{
 "cells": [
  {
   "cell_type": "code",
   "execution_count": 1,
   "metadata": {},
   "outputs": [
    {
     "ename": "ModuleNotFoundError",
     "evalue": "No module named 'sklearn'",
     "output_type": "error",
     "traceback": [
      "\u001b[1;31m---------------------------------------------------------------------------\u001b[0m",
      "\u001b[1;31mModuleNotFoundError\u001b[0m                       Traceback (most recent call last)",
      "\u001b[1;32m<ipython-input-1-97be19c723d3>\u001b[0m in \u001b[0;36m<module>\u001b[1;34m\u001b[0m\n\u001b[0;32m      1\u001b[0m \u001b[1;31m# Dependencies\u001b[0m\u001b[1;33m\u001b[0m\u001b[1;33m\u001b[0m\u001b[1;33m\u001b[0m\u001b[0m\n\u001b[0;32m      2\u001b[0m \u001b[1;32mimport\u001b[0m \u001b[0mpandas\u001b[0m \u001b[1;32mas\u001b[0m \u001b[0mpd\u001b[0m\u001b[1;33m\u001b[0m\u001b[1;33m\u001b[0m\u001b[0m\n\u001b[1;32m----> 3\u001b[1;33m \u001b[1;32mimport\u001b[0m \u001b[0msklearn\u001b[0m\u001b[1;33m.\u001b[0m\u001b[0mdatasets\u001b[0m \u001b[1;32mas\u001b[0m \u001b[0mdta\u001b[0m\u001b[1;33m\u001b[0m\u001b[1;33m\u001b[0m\u001b[0m\n\u001b[0m\u001b[0;32m      4\u001b[0m \u001b[1;32mimport\u001b[0m \u001b[0mscipy\u001b[0m\u001b[1;33m.\u001b[0m\u001b[0mstats\u001b[0m \u001b[1;32mas\u001b[0m \u001b[0mst\u001b[0m\u001b[1;33m\u001b[0m\u001b[1;33m\u001b[0m\u001b[0m\n\u001b[0;32m      5\u001b[0m \u001b[1;32mimport\u001b[0m \u001b[0mmatplotlib\u001b[0m\u001b[1;33m.\u001b[0m\u001b[0mpyplot\u001b[0m \u001b[1;32mas\u001b[0m \u001b[0mplt\u001b[0m\u001b[1;33m\u001b[0m\u001b[1;33m\u001b[0m\u001b[0m\n",
      "\u001b[1;31mModuleNotFoundError\u001b[0m: No module named 'sklearn'"
     ]
    }
   ],
   "source": [
    "# Dependencies\n",
    "import pandas as pd\n",
    "import sklearn.datasets as dta\n",
    "import scipy.stats as st\n",
    "import matplotlib.pyplot as plt"
   ]
  },
  {
   "cell_type": "code",
   "execution_count": null,
   "metadata": {},
   "outputs": [],
   "source": [
    "# Read in the wine recognition data set from sklearn and load into Pandas\n",
    "data = dta.load_wine()\n",
    "wine_data = pd.DataFrame(data.data,columns=data.feature_names)\n",
    "print(data.DESCR)"
   ]
  },
  {
   "cell_type": "code",
   "execution_count": null,
   "metadata": {},
   "outputs": [],
   "source": [
    "# Plot malic_acid versus flavanoids on a scatterplot\n",
    "malic_acid = wine_data.malic_acid\n",
    "flavanoids = wine_data.flavanoids\n",
    "plt.scatter(malic_acid,flavanoids)\n",
    "plt.xlabel(\"Amount of Malic Acid\")\n",
    "plt.ylabel(\"Amount of Flavanoids\")\n",
    "plt.show()"
   ]
  },
  {
   "cell_type": "code",
   "execution_count": null,
   "metadata": {},
   "outputs": [],
   "source": [
    "# Calculate the correlation coefficient between malic_acid and flavanoids\n",
    "print(f\"The correlation coefficient between malic acid and flavanoids is {round(st.pearsonr(malic_acid,flavanoids)[0],2)}\")"
   ]
  },
  {
   "cell_type": "code",
   "execution_count": 5,
   "metadata": {},
   "outputs": [
    {
     "data": {
      "image/png": "[encoded data removed]",
      "text/plain": [
       "<Figure size 432x288 with 1 Axes>"
      ]
     },
     "metadata": {
      "needs_background": "light"
     },
     "output_type": "display_data"
    }
   ],
   "source": [
    "# Plot alcohol versus colour_intensity on a scatterplot\n",
    "alcohol = wine_data.alcohol\n",
    "color_intensity = wine_data.color_intensity\n",
    "plt.scatter(alcohol,color_intensity)\n",
    "plt.xlabel(\"Amount of Alcohol\")\n",
    "plt.ylabel(\"Intensity of Color\")\n",
    "plt.show()"
   ]
  },
  {
   "cell_type": "code",
   "execution_count": 6,
   "metadata": {},
   "outputs": [
    {
     "name": "stdout",
     "output_type": "stream",
     "text": [
      "The correlation coefficient between alcohol and color intensity is 0.55\n"
     ]
    }
   ],
   "source": [
    "# Calculate the correlation coefficient between alcohol and color_intensity\n",
    "print(f\"The correlation coefficient between alcohol and color intensity is {round(st.pearsonr(alcohol,color_intensity)[0],2)}\")"
   ]
  },
  {
   "cell_type": "code",
   "execution_count": 7,
   "metadata": {},
   "outputs": [
    {
     "data": {
      "text/plain": [
       "malic_acid                    hue                            -0.561296\n",
       "hue                           malic_acid                     -0.561296\n",
       "nonflavanoid_phenols          flavanoids                     -0.537900\n",
       "flavanoids                    nonflavanoid_phenols           -0.537900\n",
       "hue                           color_intensity                -0.521813\n",
       "color_intensity               hue                            -0.521813\n",
       "od280/od315_of_diluted_wines  nonflavanoid_phenols           -0.503270\n",
       "nonflavanoid_phenols          od280/od315_of_diluted_wines   -0.503270\n",
       "total_phenols                 nonflavanoid_phenols           -0.449935\n",
       "nonflavanoid_phenols          total_phenols                  -0.449935\n",
       "proline                       alcalinity_of_ash              -0.440597\n",
       "alcalinity_of_ash             proline                        -0.440597\n",
       "color_intensity               od280/od315_of_diluted_wines   -0.428815\n",
       "od280/od315_of_diluted_wines  color_intensity                -0.428815\n",
       "flavanoids                    malic_acid                     -0.411007\n",
       "malic_acid                    flavanoids                     -0.411007\n",
       "od280/od315_of_diluted_wines  malic_acid                     -0.368710\n",
       "malic_acid                    od280/od315_of_diluted_wines   -0.368710\n",
       "nonflavanoid_phenols          proanthocyanins                -0.365845\n",
       "proanthocyanins               nonflavanoid_phenols           -0.365845\n",
       "flavanoids                    alcalinity_of_ash              -0.351370\n",
       "alcalinity_of_ash             flavanoids                     -0.351370\n",
       "malic_acid                    total_phenols                  -0.335167\n",
       "total_phenols                 malic_acid                     -0.335167\n",
       "alcalinity_of_ash             total_phenols                  -0.321113\n",
       "total_phenols                 alcalinity_of_ash              -0.321113\n",
       "proline                       nonflavanoid_phenols           -0.311385\n",
       "nonflavanoid_phenols          proline                        -0.311385\n",
       "alcohol                       alcalinity_of_ash              -0.310235\n",
       "alcalinity_of_ash             alcohol                        -0.310235\n",
       "                                                                ...   \n",
       "flavanoids                    hue                             0.543479\n",
       "color_intensity               alcohol                         0.546364\n",
       "alcohol                       color_intensity                 0.546364\n",
       "od280/od315_of_diluted_wines  hue                             0.565468\n",
       "hue                           od280/od315_of_diluted_wines    0.565468\n",
       "total_phenols                 proanthocyanins                 0.612413\n",
       "proanthocyanins               total_phenols                   0.612413\n",
       "proline                       alcohol                         0.643720\n",
       "alcohol                       proline                         0.643720\n",
       "flavanoids                    proanthocyanins                 0.652692\n",
       "proanthocyanins               flavanoids                      0.652692\n",
       "od280/od315_of_diluted_wines  total_phenols                   0.699949\n",
       "total_phenols                 od280/od315_of_diluted_wines    0.699949\n",
       "flavanoids                    od280/od315_of_diluted_wines    0.787194\n",
       "od280/od315_of_diluted_wines  flavanoids                      0.787194\n",
       "flavanoids                    total_phenols                   0.864564\n",
       "total_phenols                 flavanoids                      0.864564\n",
       "alcohol                       alcohol                         1.000000\n",
       "flavanoids                    flavanoids                      1.000000\n",
       "hue                           hue                             1.000000\n",
       "color_intensity               color_intensity                 1.000000\n",
       "proanthocyanins               proanthocyanins                 1.000000\n",
       "nonflavanoid_phenols          nonflavanoid_phenols            1.000000\n",
       "total_phenols                 total_phenols                   1.000000\n",
       "magnesium                     magnesium                       1.000000\n",
       "alcalinity_of_ash             alcalinity_of_ash               1.000000\n",
       "ash                           ash                             1.000000\n",
       "malic_acid                    malic_acid                      1.000000\n",
       "od280/od315_of_diluted_wines  od280/od315_of_diluted_wines    1.000000\n",
       "proline                       proline                         1.000000\n",
       "Length: 169, dtype: float64"
      ]
     },
     "execution_count": 7,
     "metadata": {},
     "output_type": "execute_result"
    }
   ],
   "source": [
    "# BONUS: Generate the correlation matrix and find the strongest positive and negative correlations\n",
    "wine_corr = wine_data.corr()\n",
    "# wine_corr.unstack().sort_values()"
   ]
  },
  {
   "cell_type": "code",
   "execution_count": null,
   "metadata": {},
   "outputs": [],
   "source": []
  }
 ],
 "metadata": {
  "kernelspec": {
   "display_name": "Python 3",
   "language": "python",
   "name": "python3"
  },
  "language_info": {
   "codemirror_mode": {
    "name": "ipython",
    "version": 3
   },
   "file_extension": ".py",
   "mimetype": "text/x-python",
   "name": "python",
   "nbconvert_exporter": "python",
   "pygments_lexer": "ipython3",
   "version": "3.6.10"
  }
 },
 "nbformat": 4,
 "nbformat_minor": 2
}
