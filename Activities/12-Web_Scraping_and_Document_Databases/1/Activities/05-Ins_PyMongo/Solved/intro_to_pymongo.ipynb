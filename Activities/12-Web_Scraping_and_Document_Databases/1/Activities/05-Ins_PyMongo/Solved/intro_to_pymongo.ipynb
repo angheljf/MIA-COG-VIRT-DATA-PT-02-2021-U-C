{
 "cells": [
  {
   "cell_type": "code",
   "execution_count": 1,
   "metadata": {},
   "outputs": [],
   "source": [
    "# Module used to connect Python with MongoDb\n",
    "import pymongo"
   ]
  },
  {
   "cell_type": "code",
   "execution_count": 4,
   "metadata": {},
   "outputs": [],
   "source": [
    "# The default port used by MongoDB is 27017\n",
    "# https://docs.mongodb.com/manual/reference/default-mongodb-port/\n",
    "conn = 'mongodb://localhost:27017'\n",
    "client = pymongo.MongoClient(conn)\n",
    "\n",
    "# Define the 'classDB' database in Mongo\n",
    "db = client.Dumpster_DB"
   ]
  },
  {
   "cell_type": "code",
   "execution_count": 5,
   "metadata": {},
   "outputs": [
    {
     "name": "stdout",
     "output_type": "stream",
     "text": [
      "{'_id': ObjectId('607f74c1294a2d2f355264a3'), 'name': 'Adam', 'yearsDiving': 6.0, 'stillDiving': False, 'bestFinds': ['Piano', 'Shoes', 'Ceiling fan', 'Daniella']}\n",
      "{'_id': ObjectId('607f755c294a2d2f355264a5'), 'name': 'Inaki', 'yearsDiving': 9.0, 'stillDiving': False, 'bestFinds': ['Office Chair', 'Tennis ball', 'Beer keg']}\n"
     ]
    }
   ],
   "source": [
    "# Query all students\n",
    "# Here, db.students refers to the collection 'classroom '\n",
    "divers = db.divers.find()\n",
    "\n",
    "# Iterate through each student in the collection\n",
    "for diver in divers:\n",
    "    print(diver)"
   ]
  },
  {
   "cell_type": "code",
   "execution_count": 6,
   "metadata": {},
   "outputs": [
    {
     "name": "stdout",
     "output_type": "stream",
     "text": [
      "{'_id': ObjectId('607f74c1294a2d2f355264a3'), 'name': 'Adam', 'yearsDiving': 6.0, 'stillDiving': False, 'bestFinds': ['Piano', 'Shoes', 'Ceiling fan', 'Daniella']}\n",
      "{'_id': ObjectId('607f755c294a2d2f355264a5'), 'name': 'Inaki', 'yearsDiving': 9.0, 'stillDiving': False, 'bestFinds': ['Office Chair', 'Tennis ball', 'Beer keg']}\n",
      "{'_id': ObjectId('607f7a91d0ecbc97a9ed81e5'), 'name': 'Daniella', 'yearsDiving': 300, 'stillDiving': False, 'bestFinds': ['Yoyo', 'Telescope', 'Lamp']}\n"
     ]
    }
   ],
   "source": [
    "# Insert a document into the 'divers' collection\n",
    "db.divers.insert_one(\n",
    "    {\n",
    "        'name': 'Daniella',\n",
    "        'yearsDiving': 300,\n",
    "        'stillDiving': False,\n",
    "        'bestFinds': ['Yoyo', 'Telescope', 'Lamp']\n",
    "    }\n",
    ")\n",
    "\n",
    "# query the classroom collection\n",
    "divers = db.divers.find()\n",
    "\n",
    "# see change in collection\n",
    "for diver in divers:\n",
    "    print(diver)"
   ]
  },
  {
   "cell_type": "code",
   "execution_count": 7,
   "metadata": {},
   "outputs": [
    {
     "name": "stdout",
     "output_type": "stream",
     "text": [
      "{'_id': ObjectId('607f74c1294a2d2f355264a3'), 'name': 'Adam', 'yearsDiving': 6.0, 'stillDiving': False, 'bestFinds': ['Piano', 'Shoes', 'Ceiling fan', 'Daniella']}\n",
      "{'_id': ObjectId('607f755c294a2d2f355264a5'), 'name': 'Inaki', 'yearsDiving': 9.0, 'stillDiving': False, 'bestFinds': ['Office Chair', 'Tennis ball', 'Beer keg']}\n",
      "{'_id': ObjectId('607f7a91d0ecbc97a9ed81e5'), 'name': 'Daniella', 'yearsDiving': 3, 'stillDiving': False, 'bestFinds': ['Yoyo', 'Telescope', 'Lamp']}\n",
      "<class 'pymongo.cursor.Cursor'>\n"
     ]
    }
   ],
   "source": [
    "# Update a document\n",
    "db.divers.update_one(\n",
    "    {'name': 'Daniella'},\n",
    "    {'$set':\n",
    "        {'yearsDiving': 3}\n",
    "     }\n",
    ")\n",
    "\n",
    "# query the divers collection\n",
    "divers = db.divers.find()\n",
    "\n",
    "# see change in collection\n",
    "for diver in divers:\n",
    "    print(diver)\n",
    "print(type(divers))"
   ]
  },
  {
   "cell_type": "code",
   "execution_count": 8,
   "metadata": {},
   "outputs": [
    {
     "name": "stdout",
     "output_type": "stream",
     "text": [
      "{'_id': ObjectId('607f74c1294a2d2f355264a3'), 'name': 'Adam', 'yearsDiving': 6.0, 'stillDiving': False, 'bestFinds': ['Piano', 'Shoes', 'Ceiling fan', 'Daniella', 'Country music']}\n",
      "{'_id': ObjectId('607f755c294a2d2f355264a5'), 'name': 'Inaki', 'yearsDiving': 9.0, 'stillDiving': False, 'bestFinds': ['Office Chair', 'Tennis ball', 'Beer keg']}\n",
      "{'_id': ObjectId('607f7a91d0ecbc97a9ed81e5'), 'name': 'Daniella', 'yearsDiving': 3, 'stillDiving': False, 'bestFinds': ['Yoyo', 'Telescope', 'Lamp']}\n"
     ]
    }
   ],
   "source": [
    "# Add an item to a document array\n",
    "db.divers.update_one(\n",
    "    {'name': 'Adam'},\n",
    "    {'$push':\n",
    "        {'bestFinds': 'Country music'}\n",
    "     }\n",
    ")\n",
    "\n",
    "# query the classroom collection\n",
    "divers = db.divers.find()\n",
    "\n",
    "# see change in collection\n",
    "for diver in divers:\n",
    "    print(diver)"
   ]
  },
  {
   "cell_type": "code",
   "execution_count": 7,
   "metadata": {},
   "outputs": [
    {
     "name": "stdout",
     "output_type": "stream",
     "text": [
      "{'_id': ObjectId('5dcb04a3688a3091d304024d'), 'name': 'Ahmed', 'favorite_python_library': 'Matplotlib', 'hobbies': ['Running', 'Stargazing', 'Reading', 'Listening to country music']}\n"
     ]
    }
   ],
   "source": [
    "# Delete a field from a document\n",
    "db.classroom.update_one({'name': 'Ahmed'},\n",
    "                        {'$unset':\n",
    "                         {'row': \"\"}\n",
    "                         }\n",
    "                        )\n",
    "\n",
    "# query the classroom collection\n",
    "classroom = db.classroom.find()\n",
    "\n",
    "# see change in collection\n",
    "for student in classroom:\n",
    "    print(student)"
   ]
  },
  {
   "cell_type": "code",
   "execution_count": 8,
   "metadata": {},
   "outputs": [],
   "source": [
    "# Delete a document from a collection\n",
    "db.classroom.delete_one(\n",
    "    {'name': 'Ahmed'}\n",
    ")\n",
    "\n",
    "# query the classroom collection\n",
    "classroom = db.classroom.find()\n",
    "\n",
    "# see change in collection\n",
    "for student in classroom:\n",
    "    print(student)"
   ]
  },
  {
   "cell_type": "code",
   "execution_count": null,
   "metadata": {},
   "outputs": [],
   "source": []
  }
 ],
 "metadata": {
  "kernelspec": {
   "display_name": "Python 3",
   "language": "python",
   "name": "python3"
  },
  "language_info": {
   "codemirror_mode": {
    "name": "ipython",
    "version": 3
   },
   "file_extension": ".py",
   "mimetype": "text/x-python",
   "name": "python",
   "nbconvert_exporter": "python",
   "pygments_lexer": "ipython3",
   "version": "3.8.5"
  }
 },
 "nbformat": 4,
 "nbformat_minor": 2
}
